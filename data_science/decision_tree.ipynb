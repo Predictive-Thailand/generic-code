{
 "cells": [
  {
   "cell_type": "code",
   "execution_count": 2,
   "metadata": {},
   "outputs": [],
   "source": [
    "import numpy as np \n",
    "import pandas as pd \n",
    "import matplotlib.pyplot as plt \n",
    "import seaborn as sns \n",
    "from sklearn.cluster import KMeans\n",
    "from sklearn.preprocessing import MinMaxScaler\n",
    "from sklearn.model_selection import train_test_split\n",
    "from sklearn.metrics import accuracy_score,f1_score\n",
    "from sklearn import tree\n",
    "from sklearn.metrics import confusion_matrix\n",
    "import itertools\n",
    "import re\n",
    "import os\n",
    "import pickle\n",
    "from datetime import datetime"
   ]
  },
  {
   "cell_type": "code",
   "execution_count": 129,
   "metadata": {},
   "outputs": [],
   "source": [
    "df_page0 = pd.read_csv('test_page.csv', dtype='object')\n",
    "df0 = pd.read_csv('test_event.csv', dtype='object')"
   ]
  },
  {
   "cell_type": "code",
   "execution_count": 132,
   "metadata": {},
   "outputs": [],
   "source": [
    "df_page = df_page.copy()\n",
    "df = df.copy()"
   ]
  },
  {
   "cell_type": "code",
   "execution_count": 40,
   "metadata": {},
   "outputs": [],
   "source": [
    "copy = df_page.copy()\n",
    "copy2 = copy.sort_values('hitNumber', ascending=False).drop_duplicates(subset = 'fullVisitorId', keep = 'last')\n",
    "#copy2 = copy.sort_values('hitNumber', ascending=False)\n",
    "copy2.fillna(0, inplace=True)"
   ]
  },
  {
   "cell_type": "code",
   "execution_count": 41,
   "metadata": {},
   "outputs": [],
   "source": [
    "copy2.drop(columns=['thankyou','dhealth_suc_s2','timeOnSite','health_yesno','prodgroup','prodgroup2','hitNumber','session_health','pathlastlv2',\n",
    "                    'dhealth_thankyou','category','action','label','product_health','pathlastlv','pathlv1','pathlv2',\n",
    "                    'pathlv3','pathlv4','visitId','date','hits_type','pagePath','nextTime','prevTime','timeOnPage','source','medium','campaign'],inplace=True)"
   ]
  },
  {
   "cell_type": "code",
   "execution_count": 42,
   "metadata": {},
   "outputs": [],
   "source": [
    "train=copy2.sample(frac=0.8,random_state=200) #random state is a seed value\n",
    "test=copy2.drop(train.index)"
   ]
  },
  {
   "cell_type": "code",
   "execution_count": 1,
   "metadata": {},
   "outputs": [],
   "source": [
    "df_dummy = pd.get_dummies(train[['os','channelGrouping','source_new','medium_new']])\n",
    "\n",
    "train_new = pd.concat([train, df_dummy], axis=1)\n",
    "train_new.drop(columns=['os','channelGrouping','source_new','medium_new'],inplace=True)\n"
   ]
  },
  {
   "cell_type": "code",
   "execution_count": 2,
   "metadata": {},
   "outputs": [],
   "source": [
    "clf = tree.DecisionTreeClassifier()\n",
    "X = train_new.copy()\n",
    "X = X.drop(columns=['fullVisitorId','dhealth_suc_u'])\n",
    "X = X.values.astype(float)\n",
    "y = train_new['dhealth_suc_u'].values.astype(int)\n",
    "\n",
    "scaler = MinMaxScaler()\n",
    "\n",
    "X_train, X_test, y_train, y_test = train_test_split(X, y, test_size=0.2, random_state=2)\n",
    "\n",
    "#clf = XGBClassifier(n_estimators=100)\n",
    "clf = clf.fit(X_train, y_train)"
   ]
  },
  {
   "cell_type": "code",
   "execution_count": 154,
   "metadata": {},
   "outputs": [
    {
     "name": "stdout",
     "output_type": "stream",
     "text": [
      "                Feature  Importance\n",
      "2      page_per_session        0.23\n",
      "8         page_per_user        0.20\n",
      "7              prodview        0.13\n",
      "1         session_visit        0.08\n",
      "0             day_visit        0.07\n",
      "17               os_iOS        0.05\n",
      "10           os_Android        0.04\n",
      "26  source_new_facebook        0.03\n",
      "16           os_Windows        0.03\n",
      "35       medium_new_sem        0.03\n",
      "\n",
      "Test Accuracy:  0.99\n",
      "Test F1 Score:  0.04\n",
      "\n",
      "\n",
      "Confusion Matrix on Test Data\n"
     ]
    },
    {
     "data": {
      "text/html": [
       "<div>\n",
       "<style scoped>\n",
       "    .dataframe tbody tr th:only-of-type {\n",
       "        vertical-align: middle;\n",
       "    }\n",
       "\n",
       "    .dataframe tbody tr th {\n",
       "        vertical-align: top;\n",
       "    }\n",
       "\n",
       "    .dataframe thead th {\n",
       "        text-align: right;\n",
       "    }\n",
       "</style>\n",
       "<table border=\"1\" class=\"dataframe\">\n",
       "  <thead>\n",
       "    <tr style=\"text-align: right;\">\n",
       "      <th>Predicted</th>\n",
       "      <th>0</th>\n",
       "      <th>1</th>\n",
       "    </tr>\n",
       "    <tr>\n",
       "      <th>Actual</th>\n",
       "      <th></th>\n",
       "      <th></th>\n",
       "    </tr>\n",
       "  </thead>\n",
       "  <tbody>\n",
       "    <tr>\n",
       "      <th>0</th>\n",
       "      <td>18680</td>\n",
       "      <td>42</td>\n",
       "    </tr>\n",
       "    <tr>\n",
       "      <th>1</th>\n",
       "      <td>104</td>\n",
       "      <td>3</td>\n",
       "    </tr>\n",
       "  </tbody>\n",
       "</table>\n",
       "</div>"
      ],
      "text/plain": [
       "Predicted      0   1\n",
       "Actual              \n",
       "0          18680  42\n",
       "1            104   3"
      ]
     },
     "execution_count": 154,
     "metadata": {},
     "output_type": "execute_result"
    }
   ],
   "source": [
    "pd.options.display.float_format = '{:,.2f}'.format\n",
    "\n",
    "importance = pd.DataFrame({'Feature':train_new.drop(columns=['fullVisitorId','dhealth_suc_u']).columns.values, 'Importance':clf.feature_importances_})\n",
    "importance.sort_values(by=['Importance'],ascending=[False],inplace=True)\n",
    "print(importance[0:10])\n",
    "\n",
    "# Confusion matrix \n",
    "y_pred = clf.predict(X_test)\n",
    "\n",
    "print('')\n",
    "\n",
    "print(\"Test Accuracy: \",round(accuracy_score(y_test,y_pred),2))\n",
    "print(\"Test F1 Score: \",round(f1_score(y_test,y_pred),2))\n",
    "print('')\n",
    "print('')\n",
    "print(\"Confusion Matrix on Test Data\")\n",
    "pd.crosstab(y_test, y_pred, rownames=['Actual'], colnames=['Predicted'])"
   ]
  }
 ],
 "metadata": {
  "environment": {
   "name": "tf2-gpu.2-1.m58",
   "type": "gcloud",
   "uri": "gcr.io/deeplearning-platform-release/tf2-gpu.2-1:m58"
  },
  "kernelspec": {
   "display_name": "Python 3",
   "language": "python",
   "name": "python3"
  },
  "language_info": {
   "codemirror_mode": {
    "name": "ipython",
    "version": 3
   },
   "file_extension": ".py",
   "mimetype": "text/x-python",
   "name": "python",
   "nbconvert_exporter": "python",
   "pygments_lexer": "ipython3",
   "version": "3.7.4"
  }
 },
 "nbformat": 4,
 "nbformat_minor": 4
}
